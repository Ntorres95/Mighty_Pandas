{
 "cells": [
  {
   "cell_type": "code",
   "execution_count": 29,
   "metadata": {},
   "outputs": [],
   "source": [
    "import pandas as pd\n",
    "import matplotlib.pyplot as plt\n",
    "import numpy as np\n",
    "from scipy.stats import linregress\n",
    "import scipy.stats as st"
   ]
  },
  {
   "cell_type": "code",
   "execution_count": 30,
   "metadata": {},
   "outputs": [],
   "source": [
    "#read in the weather csv file\n",
    "file_path = \"weather_by_month.csv\"\n",
    "monthly_weather_data = pd.read_csv(file_path)\n",
    "\n",
    "#create the data frame\n",
    "monthly_weather_df = pd.DataFrame(monthly_weather_data)"
   ]
  },
  {
   "cell_type": "code",
   "execution_count": 31,
   "metadata": {},
   "outputs": [],
   "source": [
    "#sanity check\n",
    "#monthly_weather_df"
   ]
  },
  {
   "cell_type": "code",
   "execution_count": 32,
   "metadata": {},
   "outputs": [],
   "source": [
    "#split the month and aday column\n",
    "monthly_weather_df[['Year', 'Month']] = monthly_weather_df.Month.str.split(\"-\", expand=True)\n",
    "\n",
    "#santiy check\n",
    "#monthly_weather_df"
   ]
  },
  {
   "cell_type": "code",
   "execution_count": 33,
   "metadata": {},
   "outputs": [],
   "source": [
    "#create a column with joined year and month\n",
    "monthly_weather_df[\"Date\"] = monthly_weather_df[\"Year\"].astype(str) + '-' + monthly_weather_df[\"Month\"].astype(str)\n"
   ]
  },
  {
   "cell_type": "code",
   "execution_count": 34,
   "metadata": {},
   "outputs": [],
   "source": [
    "#restructuring the columns\n",
    "monthly_weather_df = monthly_weather_df[['Date',\n",
    "                                         'Year',\n",
    "                                         'Month',\n",
    "                                         'Temperature (F)',\n",
    "                                         'Humitdity (%)',\n",
    "                                        'Snowfall Depth (in)',\n",
    "                                        'Wind Speed (MPH)',\n",
    "                                        'Precipitation (in)']]\n",
    "#convert the month column to int\n",
    "monthly_weather_df['Month'] = monthly_weather_df['Month'].astype(int)\n",
    "\n",
    "#sanity check\n",
    "#monthly_weather_df"
   ]
  },
  {
   "cell_type": "code",
   "execution_count": 35,
   "metadata": {},
   "outputs": [],
   "source": [
    "#rename the mispelled column\n",
    "monthly_weather_df = monthly_weather_df.rename(columns={\"Humitdity (%)\": \"Humidity (%)\"})"
   ]
  },
  {
   "cell_type": "code",
   "execution_count": 36,
   "metadata": {},
   "outputs": [],
   "source": [
    "#groupby year and month\n",
    "#grouped_weather_df = monthly_weather_df.groupby(['Year', 'Month'])\n",
    "\n",
    "#sanity check\n",
    "#grouped_weather_df.mean()"
   ]
  },
  {
   "cell_type": "code",
   "execution_count": 37,
   "metadata": {},
   "outputs": [
    {
     "data": {
      "text/html": [
       "<div>\n",
       "<style scoped>\n",
       "    .dataframe tbody tr th:only-of-type {\n",
       "        vertical-align: middle;\n",
       "    }\n",
       "\n",
       "    .dataframe tbody tr th {\n",
       "        vertical-align: top;\n",
       "    }\n",
       "\n",
       "    .dataframe thead th {\n",
       "        text-align: right;\n",
       "    }\n",
       "</style>\n",
       "<table border=\"1\" class=\"dataframe\">\n",
       "  <thead>\n",
       "    <tr style=\"text-align: right;\">\n",
       "      <th></th>\n",
       "      <th></th>\n",
       "      <th>Temperature (F)</th>\n",
       "      <th>Humidity (%)</th>\n",
       "      <th>Snowfall Depth (in)</th>\n",
       "      <th>Wind Speed (MPH)</th>\n",
       "      <th>Precipitation (in)</th>\n",
       "    </tr>\n",
       "    <tr>\n",
       "      <th>Year</th>\n",
       "      <th>Month</th>\n",
       "      <th></th>\n",
       "      <th></th>\n",
       "      <th></th>\n",
       "      <th></th>\n",
       "      <th></th>\n",
       "    </tr>\n",
       "  </thead>\n",
       "  <tbody>\n",
       "    <tr>\n",
       "      <th rowspan=\"5\" valign=\"top\">2015</th>\n",
       "      <th>4</th>\n",
       "      <td>52.619355</td>\n",
       "      <td>56.535484</td>\n",
       "      <td>0.000000</td>\n",
       "      <td>6.816129</td>\n",
       "      <td>0.055806</td>\n",
       "    </tr>\n",
       "    <tr>\n",
       "      <th>5</th>\n",
       "      <td>66.234375</td>\n",
       "      <td>62.909375</td>\n",
       "      <td>0.000000</td>\n",
       "      <td>5.928125</td>\n",
       "      <td>0.109375</td>\n",
       "    </tr>\n",
       "    <tr>\n",
       "      <th>6</th>\n",
       "      <td>70.445161</td>\n",
       "      <td>70.345161</td>\n",
       "      <td>0.000000</td>\n",
       "      <td>6.048387</td>\n",
       "      <td>0.153226</td>\n",
       "    </tr>\n",
       "    <tr>\n",
       "      <th>7</th>\n",
       "      <td>77.940625</td>\n",
       "      <td>61.968750</td>\n",
       "      <td>0.000000</td>\n",
       "      <td>5.131250</td>\n",
       "      <td>0.083125</td>\n",
       "    </tr>\n",
       "    <tr>\n",
       "      <th>8</th>\n",
       "      <td>77.715625</td>\n",
       "      <td>58.871875</td>\n",
       "      <td>0.000000</td>\n",
       "      <td>5.337500</td>\n",
       "      <td>0.055313</td>\n",
       "    </tr>\n",
       "    <tr>\n",
       "      <th>...</th>\n",
       "      <th>...</th>\n",
       "      <td>...</td>\n",
       "      <td>...</td>\n",
       "      <td>...</td>\n",
       "      <td>...</td>\n",
       "      <td>...</td>\n",
       "    </tr>\n",
       "    <tr>\n",
       "      <th>2019</th>\n",
       "      <th>12</th>\n",
       "      <td>37.865625</td>\n",
       "      <td>73.725000</td>\n",
       "      <td>0.540625</td>\n",
       "      <td>6.496875</td>\n",
       "      <td>0.144687</td>\n",
       "    </tr>\n",
       "    <tr>\n",
       "      <th rowspan=\"4\" valign=\"top\">2020</th>\n",
       "      <th>1</th>\n",
       "      <td>38.567742</td>\n",
       "      <td>66.132258</td>\n",
       "      <td>0.251613</td>\n",
       "      <td>6.732258</td>\n",
       "      <td>0.043548</td>\n",
       "    </tr>\n",
       "    <tr>\n",
       "      <th>2</th>\n",
       "      <td>30.200000</td>\n",
       "      <td>44.100000</td>\n",
       "      <td>0.000000</td>\n",
       "      <td>11.000000</td>\n",
       "      <td>0.000000</td>\n",
       "    </tr>\n",
       "    <tr>\n",
       "      <th>3</th>\n",
       "      <td>46.750000</td>\n",
       "      <td>62.487500</td>\n",
       "      <td>0.003125</td>\n",
       "      <td>7.246875</td>\n",
       "      <td>0.092187</td>\n",
       "    </tr>\n",
       "    <tr>\n",
       "      <th>4</th>\n",
       "      <td>49.664516</td>\n",
       "      <td>62.767742</td>\n",
       "      <td>0.000000</td>\n",
       "      <td>8.451613</td>\n",
       "      <td>0.130968</td>\n",
       "    </tr>\n",
       "  </tbody>\n",
       "</table>\n",
       "<p>61 rows × 5 columns</p>\n",
       "</div>"
      ],
      "text/plain": [
       "            Temperature (F)  Humidity (%)  Snowfall Depth (in)  \\\n",
       "Year Month                                                       \n",
       "2015 4            52.619355     56.535484             0.000000   \n",
       "     5            66.234375     62.909375             0.000000   \n",
       "     6            70.445161     70.345161             0.000000   \n",
       "     7            77.940625     61.968750             0.000000   \n",
       "     8            77.715625     58.871875             0.000000   \n",
       "...                     ...           ...                  ...   \n",
       "2019 12           37.865625     73.725000             0.540625   \n",
       "2020 1            38.567742     66.132258             0.251613   \n",
       "     2            30.200000     44.100000             0.000000   \n",
       "     3            46.750000     62.487500             0.003125   \n",
       "     4            49.664516     62.767742             0.000000   \n",
       "\n",
       "            Wind Speed (MPH)  Precipitation (in)  \n",
       "Year Month                                        \n",
       "2015 4              6.816129            0.055806  \n",
       "     5              5.928125            0.109375  \n",
       "     6              6.048387            0.153226  \n",
       "     7              5.131250            0.083125  \n",
       "     8              5.337500            0.055313  \n",
       "...                      ...                 ...  \n",
       "2019 12             6.496875            0.144687  \n",
       "2020 1              6.732258            0.043548  \n",
       "     2             11.000000            0.000000  \n",
       "     3              7.246875            0.092187  \n",
       "     4              8.451613            0.130968  \n",
       "\n",
       "[61 rows x 5 columns]"
      ]
     },
     "execution_count": 37,
     "metadata": {},
     "output_type": "execute_result"
    }
   ],
   "source": [
    "#bins for the seasons\n",
    "bins = [0, 2, 6, 9, 12]\n",
    "\n",
    "# Create the names for the bins\n",
    "group_names = [\"winter\", \"Spring\", \"Summer\", \"Fall\"]\n",
    "\n",
    "#cut the df\n",
    "monthly_weather_df[\"Season\"] = pd.cut(monthly_weather_df[\"Month\"], bins, labels=group_names, include_lowest=True)\n",
    "\n",
    "#sanity check\n",
    "grouped_weather = monthly_weather_df.groupby(by=[\"Year\", \"Month\"])\n",
    "\n",
    "mean_grouped_weather = grouped_weather.mean()\n",
    "\n",
    "#drop the last 4 months\n",
    "mean_grouped_weather.drop(mean_grouped_weather.tail(3).index,inplace=True)\n",
    "\n",
    "#drop the first 4 months\n",
    "mean_grouped_weather.drop(mean_grouped_weather.head(3).index,inplace=True)\n",
    "\n",
    "mean_grouped_weather"
   ]
  },
  {
   "cell_type": "code",
   "execution_count": 38,
   "metadata": {},
   "outputs": [],
   "source": [
    "#file path\n",
    "file_path = ('../UberLyft/uber_data.csv')\n",
    "\n",
    "#read in the csv file\n",
    "uber_data = pd.read_csv(file_path)\n",
    "\n",
    "#create a df\n",
    "uber_df = pd.DataFrame(uber_data)\n",
    "\n",
    "#sanity check\n",
    "#uber_df"
   ]
  },
  {
   "cell_type": "code",
   "execution_count": 39,
   "metadata": {},
   "outputs": [],
   "source": [
    "#create a column with joined year and month\n",
    "uber_df[\"Date\"] = uber_df[\"Year\"].astype(str) + '-' + uber_df[\"Month\"].astype(str)\n",
    "\n",
    "#sanity check\n",
    "#uber_df"
   ]
  },
  {
   "cell_type": "code",
   "execution_count": 40,
   "metadata": {},
   "outputs": [],
   "source": [
    "#resstructuring the columns\n",
    "uber_df = uber_df[['Date',\n",
    "                   'Year',\n",
    "                  'Month',\n",
    "                  'Total Dispatched Trips',\n",
    "                 'Total Dispatched Shared Trips',\n",
    "                 'Unique Dispatched Vehicles']]\n",
    "\n",
    "#sanity check\n",
    "#uber_df"
   ]
  },
  {
   "cell_type": "code",
   "execution_count": 41,
   "metadata": {},
   "outputs": [],
   "source": [
    "#group by month and year\n",
    "#grouped_uber_df = uber_df.groupby(['Year', 'Month'])\n",
    "\n",
    "#sanity check\n",
    "#grouped_uber_df.mean()"
   ]
  },
  {
   "cell_type": "code",
   "execution_count": 42,
   "metadata": {},
   "outputs": [
    {
     "data": {
      "text/html": [
       "<div>\n",
       "<style scoped>\n",
       "    .dataframe tbody tr th:only-of-type {\n",
       "        vertical-align: middle;\n",
       "    }\n",
       "\n",
       "    .dataframe tbody tr th {\n",
       "        vertical-align: top;\n",
       "    }\n",
       "\n",
       "    .dataframe thead th {\n",
       "        text-align: right;\n",
       "    }\n",
       "</style>\n",
       "<table border=\"1\" class=\"dataframe\">\n",
       "  <thead>\n",
       "    <tr style=\"text-align: right;\">\n",
       "      <th></th>\n",
       "      <th></th>\n",
       "      <th>Total Dispatched Trips</th>\n",
       "      <th>Total Dispatched Shared Trips</th>\n",
       "      <th>Unique Dispatched Vehicles</th>\n",
       "    </tr>\n",
       "    <tr>\n",
       "      <th>Year</th>\n",
       "      <th>Month</th>\n",
       "      <th></th>\n",
       "      <th></th>\n",
       "      <th></th>\n",
       "    </tr>\n",
       "  </thead>\n",
       "  <tbody>\n",
       "    <tr>\n",
       "      <th rowspan=\"5\" valign=\"top\">2015</th>\n",
       "      <th>4</th>\n",
       "      <td>2280332</td>\n",
       "      <td>0</td>\n",
       "      <td>14952</td>\n",
       "    </tr>\n",
       "    <tr>\n",
       "      <th>5</th>\n",
       "      <td>1854691</td>\n",
       "      <td>0</td>\n",
       "      <td>12472</td>\n",
       "    </tr>\n",
       "    <tr>\n",
       "      <th>6</th>\n",
       "      <td>2816572</td>\n",
       "      <td>0</td>\n",
       "      <td>18751</td>\n",
       "    </tr>\n",
       "    <tr>\n",
       "      <th>7</th>\n",
       "      <td>3107558</td>\n",
       "      <td>0</td>\n",
       "      <td>21616</td>\n",
       "    </tr>\n",
       "    <tr>\n",
       "      <th>8</th>\n",
       "      <td>3316381</td>\n",
       "      <td>0</td>\n",
       "      <td>23350</td>\n",
       "    </tr>\n",
       "    <tr>\n",
       "      <th>...</th>\n",
       "      <th>...</th>\n",
       "      <td>...</td>\n",
       "      <td>...</td>\n",
       "      <td>...</td>\n",
       "    </tr>\n",
       "    <tr>\n",
       "      <th>2019</th>\n",
       "      <th>12</th>\n",
       "      <td>16105602</td>\n",
       "      <td>1045262</td>\n",
       "      <td>71488</td>\n",
       "    </tr>\n",
       "    <tr>\n",
       "      <th rowspan=\"4\" valign=\"top\">2020</th>\n",
       "      <th>1</th>\n",
       "      <td>14582477</td>\n",
       "      <td>1047431</td>\n",
       "      <td>70087</td>\n",
       "    </tr>\n",
       "    <tr>\n",
       "      <th>2</th>\n",
       "      <td>15743375</td>\n",
       "      <td>1102238</td>\n",
       "      <td>68833</td>\n",
       "    </tr>\n",
       "    <tr>\n",
       "      <th>3</th>\n",
       "      <td>9836763</td>\n",
       "      <td>527848</td>\n",
       "      <td>66471</td>\n",
       "    </tr>\n",
       "    <tr>\n",
       "      <th>4</th>\n",
       "      <td>3102835</td>\n",
       "      <td>0</td>\n",
       "      <td>19449</td>\n",
       "    </tr>\n",
       "  </tbody>\n",
       "</table>\n",
       "<p>61 rows × 3 columns</p>\n",
       "</div>"
      ],
      "text/plain": [
       "            Total Dispatched Trips  Total Dispatched Shared Trips  \\\n",
       "Year Month                                                          \n",
       "2015 4                     2280332                              0   \n",
       "     5                     1854691                              0   \n",
       "     6                     2816572                              0   \n",
       "     7                     3107558                              0   \n",
       "     8                     3316381                              0   \n",
       "...                            ...                            ...   \n",
       "2019 12                   16105602                        1045262   \n",
       "2020 1                    14582477                        1047431   \n",
       "     2                    15743375                        1102238   \n",
       "     3                     9836763                         527848   \n",
       "     4                     3102835                              0   \n",
       "\n",
       "            Unique Dispatched Vehicles  \n",
       "Year Month                              \n",
       "2015 4                           14952  \n",
       "     5                           12472  \n",
       "     6                           18751  \n",
       "     7                           21616  \n",
       "     8                           23350  \n",
       "...                                ...  \n",
       "2019 12                          71488  \n",
       "2020 1                           70087  \n",
       "     2                           68833  \n",
       "     3                           66471  \n",
       "     4                           19449  \n",
       "\n",
       "[61 rows x 3 columns]"
      ]
     },
     "execution_count": 42,
     "metadata": {},
     "output_type": "execute_result"
    }
   ],
   "source": [
    "#bins for the seasons\n",
    "bins = [0, 2, 6, 9, 12]\n",
    "\n",
    "# Create the names for the bins\n",
    "group_names = [\"Winter\", \"Spring\", \"Summer\", \"Fall\"]\n",
    "\n",
    "#cut the df\n",
    "uber_df[\"Season\"] = pd.cut(uber_df[\"Month\"], bins, labels=group_names, include_lowest=True)\n",
    "\n",
    "#sanity check\n",
    "grouped_uber = uber_df.groupby(by=[\"Year\", \"Month\"])\n",
    "\n",
    "mean_grouped_uber = grouped_uber.mean()\n",
    "\n",
    "#drop the first 4 months\n",
    "mean_grouped_uber.drop(mean_grouped_uber.head(3).index,inplace=True)\n",
    "\n",
    "mean_grouped_uber"
   ]
  },
  {
   "cell_type": "code",
   "execution_count": 43,
   "metadata": {},
   "outputs": [],
   "source": [
    "#file path\n",
    "file_path = ('../UberLyft/lyft_data.csv')\n",
    "\n",
    "#read in the csv file\n",
    "lyft_data = pd.read_csv(file_path)\n",
    "\n",
    "#create a df\n",
    "lyft_df = pd.DataFrame(lyft_data)\n",
    "\n",
    "#sanity check\n",
    "#lyft_df"
   ]
  },
  {
   "cell_type": "code",
   "execution_count": 44,
   "metadata": {},
   "outputs": [],
   "source": [
    "#create a column with joined year and month\n",
    "lyft_df[\"Date\"] = lyft_df[\"Year\"].astype(str) + '.' + lyft_df[\"Month\"].astype(str)"
   ]
  },
  {
   "cell_type": "code",
   "execution_count": 45,
   "metadata": {},
   "outputs": [],
   "source": [
    "#sanity check\n",
    "#lyft_df"
   ]
  },
  {
   "cell_type": "code",
   "execution_count": 46,
   "metadata": {},
   "outputs": [],
   "source": [
    "#resstructuring the columns\n",
    "lyft_df = lyft_df[['Date',\n",
    "                   'Year',\n",
    "                  'Month',\n",
    "                  'Total Dispatched Trips',\n",
    "                 'Total Dispatched Shared Trips',\n",
    "                 'Unique Dispatched Vehicles']]"
   ]
  },
  {
   "cell_type": "code",
   "execution_count": 47,
   "metadata": {},
   "outputs": [],
   "source": [
    "#bins for the seasons\n",
    "bins = [0, 2, 6, 9, 12]\n",
    "\n",
    "# Create the names for the bins\n",
    "group_names = [ \"Winter\", \"Spring\", \"Summer\", \"Fall\"]"
   ]
  },
  {
   "cell_type": "code",
   "execution_count": 48,
   "metadata": {},
   "outputs": [
    {
     "data": {
      "text/html": [
       "<div>\n",
       "<style scoped>\n",
       "    .dataframe tbody tr th:only-of-type {\n",
       "        vertical-align: middle;\n",
       "    }\n",
       "\n",
       "    .dataframe tbody tr th {\n",
       "        vertical-align: top;\n",
       "    }\n",
       "\n",
       "    .dataframe thead th {\n",
       "        text-align: right;\n",
       "    }\n",
       "</style>\n",
       "<table border=\"1\" class=\"dataframe\">\n",
       "  <thead>\n",
       "    <tr style=\"text-align: right;\">\n",
       "      <th></th>\n",
       "      <th></th>\n",
       "      <th>Total Dispatched Trips</th>\n",
       "      <th>Total Dispatched Shared Trips</th>\n",
       "      <th>Unique Dispatched Vehicles</th>\n",
       "    </tr>\n",
       "    <tr>\n",
       "      <th>Year</th>\n",
       "      <th>Month</th>\n",
       "      <th></th>\n",
       "      <th></th>\n",
       "      <th></th>\n",
       "    </tr>\n",
       "  </thead>\n",
       "  <tbody>\n",
       "    <tr>\n",
       "      <th rowspan=\"5\" valign=\"top\">2015</th>\n",
       "      <th>4</th>\n",
       "      <td>80613</td>\n",
       "      <td>0</td>\n",
       "      <td>2519</td>\n",
       "    </tr>\n",
       "    <tr>\n",
       "      <th>5</th>\n",
       "      <td>100862</td>\n",
       "      <td>0</td>\n",
       "      <td>2701</td>\n",
       "    </tr>\n",
       "    <tr>\n",
       "      <th>6</th>\n",
       "      <td>111111</td>\n",
       "      <td>0</td>\n",
       "      <td>2963</td>\n",
       "    </tr>\n",
       "    <tr>\n",
       "      <th>7</th>\n",
       "      <td>194815</td>\n",
       "      <td>0</td>\n",
       "      <td>3895</td>\n",
       "    </tr>\n",
       "    <tr>\n",
       "      <th>8</th>\n",
       "      <td>318717</td>\n",
       "      <td>0</td>\n",
       "      <td>5016</td>\n",
       "    </tr>\n",
       "    <tr>\n",
       "      <th>...</th>\n",
       "      <th>...</th>\n",
       "      <td>...</td>\n",
       "      <td>...</td>\n",
       "      <td>...</td>\n",
       "    </tr>\n",
       "    <tr>\n",
       "      <th>2019</th>\n",
       "      <th>12</th>\n",
       "      <td>5430612</td>\n",
       "      <td>1417280</td>\n",
       "      <td>45310</td>\n",
       "    </tr>\n",
       "    <tr>\n",
       "      <th rowspan=\"4\" valign=\"top\">2020</th>\n",
       "      <th>1</th>\n",
       "      <td>5274248</td>\n",
       "      <td>1319840</td>\n",
       "      <td>44285</td>\n",
       "    </tr>\n",
       "    <tr>\n",
       "      <th>2</th>\n",
       "      <td>5339549</td>\n",
       "      <td>1295327</td>\n",
       "      <td>43192</td>\n",
       "    </tr>\n",
       "    <tr>\n",
       "      <th>3</th>\n",
       "      <td>3219535</td>\n",
       "      <td>557289</td>\n",
       "      <td>40328</td>\n",
       "    </tr>\n",
       "    <tr>\n",
       "      <th>4</th>\n",
       "      <td>1143604</td>\n",
       "      <td>0</td>\n",
       "      <td>11665</td>\n",
       "    </tr>\n",
       "  </tbody>\n",
       "</table>\n",
       "<p>61 rows × 3 columns</p>\n",
       "</div>"
      ],
      "text/plain": [
       "            Total Dispatched Trips  Total Dispatched Shared Trips  \\\n",
       "Year Month                                                          \n",
       "2015 4                       80613                              0   \n",
       "     5                      100862                              0   \n",
       "     6                      111111                              0   \n",
       "     7                      194815                              0   \n",
       "     8                      318717                              0   \n",
       "...                            ...                            ...   \n",
       "2019 12                    5430612                        1417280   \n",
       "2020 1                     5274248                        1319840   \n",
       "     2                     5339549                        1295327   \n",
       "     3                     3219535                         557289   \n",
       "     4                     1143604                              0   \n",
       "\n",
       "            Unique Dispatched Vehicles  \n",
       "Year Month                              \n",
       "2015 4                            2519  \n",
       "     5                            2701  \n",
       "     6                            2963  \n",
       "     7                            3895  \n",
       "     8                            5016  \n",
       "...                                ...  \n",
       "2019 12                          45310  \n",
       "2020 1                           44285  \n",
       "     2                           43192  \n",
       "     3                           40328  \n",
       "     4                           11665  \n",
       "\n",
       "[61 rows x 3 columns]"
      ]
     },
     "execution_count": 48,
     "metadata": {},
     "output_type": "execute_result"
    }
   ],
   "source": [
    "#bins for the seasons\n",
    "bins = [0, 3, 6, 9, 12]\n",
    "\n",
    "# Create the names for the bins\n",
    "group_names = [\"Spring\", \"Summer\", \"Fall\", \"Winter\"]\n",
    "\n",
    "#cut the df\n",
    "lyft_df[\"Season\"] = pd.cut(lyft_df[\"Month\"], bins, labels=group_names, include_lowest=True)\n",
    "\n",
    "#sanity check\n",
    "grouped_lyft = lyft_df.groupby(by=[\"Year\", \"Month\"])\n",
    "\n",
    "mean_grouped_lyft = grouped_lyft.mean()\n",
    "\n",
    "mean_grouped_lyft"
   ]
  },
  {
   "cell_type": "code",
   "execution_count": null,
   "metadata": {},
   "outputs": [],
   "source": []
  },
  {
   "cell_type": "code",
   "execution_count": 66,
   "metadata": {},
   "outputs": [
    {
     "name": "stdout",
     "output_type": "stream",
     "text": [
      "Correlation = -0.15\n",
      "P_value = 0.24\n",
      "y = -43027.38x + 12181431.37\n"
     ]
    },
    {
     "data": {
      "image/png": "[encoded data removed]",
      "text/plain": [
       "<Figure size 432x288 with 1 Axes>"
      ]
     },
     "metadata": {
      "needs_background": "light"
     },
     "output_type": "display_data"
    },
    {
     "data": {
      "text/plain": [
       "<Figure size 432x288 with 0 Axes>"
      ]
     },
     "metadata": {},
     "output_type": "display_data"
    }
   ],
   "source": [
    "#collect the data for the scatter plot (Temperature vs Uber Rides)\n",
    "x_values = mean_grouped_weather[\"Temperature (F)\"]\n",
    "\n",
    "y_values = mean_grouped_uber[\"Total Dispatched Trips\"]\n",
    "\n",
    "plt.scatter(x_values, y_values)\n",
    "\n",
    "plt.xlabel(\"Temperature (F)\")\n",
    "plt.ylabel(\"Total Disaptched Trips\")\n",
    "plt.title(\"Temperature (F) vs Total Dispatched Trips (Uber)\")\n",
    "\n",
    "#correlation coefficient\n",
    "correlation = st.pearsonr(x_values,y_values)\n",
    "print(f\"Correlation = {round(correlation[0],2)}\")\n",
    "\n",
    "(slope, intercept, rvalue, pvalue, stderr) = linregress(x_values,y_values)\n",
    "regress_values = x_values * slope + intercept\n",
    "\n",
    "print(f\"P_value = {round(pvalue,2)}\")\n",
    "\n",
    "print(f'y = {round(slope,2)}x + {round(intercept,2)}')\n",
    "\n",
    "plt.plot(x_values,regress_values,\"r-\")\n",
    "\n",
    "plt.show()\n",
    "\n",
    "plt.savefig('Temp_v_Uber.png')"
   ]
  },
  {
   "cell_type": "code",
   "execution_count": 67,
   "metadata": {},
   "outputs": [
    {
     "name": "stdout",
     "output_type": "stream",
     "text": [
      "Correlation = -0.13\n",
      "P_value = 0.31\n",
      "y = -14469.5x + 3396403.14\n"
     ]
    },
    {
     "data": {
      "image/png": "[encoded data removed]",
      "text/plain": [
       "<Figure size 432x288 with 1 Axes>"
      ]
     },
     "metadata": {
      "needs_background": "light"
     },
     "output_type": "display_data"
    },
    {
     "data": {
      "text/plain": [
       "<Figure size 432x288 with 0 Axes>"
      ]
     },
     "metadata": {},
     "output_type": "display_data"
    }
   ],
   "source": [
    "#collect the data for the scatter plot (Temperature vs Lyft Rides)\n",
    "x_values = mean_grouped_weather[\"Temperature (F)\"]\n",
    "\n",
    "y_values = mean_grouped_lyft[\"Total Dispatched Trips\"]\n",
    "\n",
    "plt.scatter(x_values, y_values)\n",
    "\n",
    "plt.xlabel(\"Temperature (F)\")\n",
    "plt.ylabel(\"Total Disaptched Trips\")\n",
    "plt.title(\"Temperature (F) vs Total Dispatched Trips (Lyft)\")\n",
    "\n",
    "#correlation coefficient\n",
    "correlation = st.pearsonr(x_values,y_values)\n",
    "print(f\"Correlation = {round(correlation[0],2)}\")\n",
    "\n",
    "(slope, intercept, rvalue, pvalue, stderr) = linregress(x_values,y_values)\n",
    "regress_values = x_values * slope + intercept\n",
    "\n",
    "print(f\"P_value = {round(pvalue,2)}\")\n",
    "\n",
    "print(f'y = {round(slope,2)}x + {round(intercept,2)}')\n",
    "\n",
    "plt.plot(x_values,regress_values,\"r-\")\n",
    "\n",
    "plt.show()\n",
    "\n",
    "plt.savefig('Temp_v_Lyft.png')"
   ]
  },
  {
   "cell_type": "code",
   "execution_count": 68,
   "metadata": {},
   "outputs": [
    {
     "name": "stdout",
     "output_type": "stream",
     "text": [
      "Correlation = 0.1\n",
      "P_value = 0.44\n",
      "y = 7976221.47x + 8931852.74\n"
     ]
    },
    {
     "data": {
      "image/png": "[encoded data removed]",
      "text/plain": [
       "<Figure size 432x288 with 1 Axes>"
      ]
     },
     "metadata": {
      "needs_background": "light"
     },
     "output_type": "display_data"
    },
    {
     "data": {
      "text/plain": [
       "<Figure size 432x288 with 0 Axes>"
      ]
     },
     "metadata": {},
     "output_type": "display_data"
    }
   ],
   "source": [
    "#collect the data for the scatter plot (Precipitation vs Uber Rides)\n",
    "x_values = mean_grouped_weather[\"Precipitation (in)\"]\n",
    "\n",
    "y_values = mean_grouped_uber[\"Total Dispatched Trips\"]\n",
    "\n",
    "plt.scatter(x_values, y_values)\n",
    "\n",
    "plt.xlabel(\"Precipitation (in)\")\n",
    "plt.ylabel(\"Total Disaptched Trips\")\n",
    "plt.title(\"Precipitation (in) vs Total Dispatched Trips (Uber)\")\n",
    "\n",
    "#correlation coefficient\n",
    "correlation = st.pearsonr(x_values,y_values)\n",
    "print(f\"Correlation = {round(correlation[0],2)}\")\n",
    "\n",
    "(slope, intercept, rvalue, pvalue, stderr) = linregress(x_values,y_values)\n",
    "regress_values = x_values * slope + intercept\n",
    "\n",
    "print(f\"P_value = {round(pvalue,2)}\")\n",
    "\n",
    "print(f'y = {round(slope,2)}x + {round(intercept,2)}')\n",
    "\n",
    "plt.plot(x_values,regress_values,\"r-\")\n",
    "\n",
    "plt.show()\n",
    "\n",
    "plt.savefig('Precip_v_Uber.png')"
   ]
  },
  {
   "cell_type": "code",
   "execution_count": 65,
   "metadata": {},
   "outputs": [
    {
     "name": "stdout",
     "output_type": "stream",
     "text": [
      "Correlation = 0.08\n",
      "P_value = 0.53\n",
      "y = 2498459.51x + 2323349.08\n"
     ]
    },
    {
     "data": {
      "image/png": "[encoded data removed]",
      "text/plain": [
       "<Figure size 432x288 with 1 Axes>"
      ]
     },
     "metadata": {
      "needs_background": "light"
     },
     "output_type": "display_data"
    },
    {
     "data": {
      "text/plain": [
       "<Figure size 432x288 with 0 Axes>"
      ]
     },
     "metadata": {},
     "output_type": "display_data"
    }
   ],
   "source": [
    "#collect the data for the scatter plot (Precipitation vs Lyft Rides)\n",
    "x_values = mean_grouped_weather[\"Precipitation (in)\"]\n",
    "\n",
    "y_values = mean_grouped_lyft[\"Total Dispatched Trips\"]\n",
    "\n",
    "plt.scatter(x_values, y_values)\n",
    "\n",
    "plt.xlabel(\"Precipitation (in)\")\n",
    "plt.ylabel(\"Total Disaptched Trips\")\n",
    "plt.title(\"Precipitation (in) vs Total Dispatched Trips (Lyft)\")\n",
    "\n",
    "#correlation coefficient\n",
    "correlation = st.pearsonr(x_values,y_values)\n",
    "print(f\"Correlation = {round(correlation[0],2)}\")\n",
    "\n",
    "(slope, intercept, rvalue, pvalue, stderr) = linregress(x_values,y_values)\n",
    "regress_values = x_values * slope + intercept\n",
    "\n",
    "print(f\"P_value = {round(pvalue,2)}\")\n",
    "\n",
    "print(f'y = {round(slope,2)}x + {round(intercept,2)}')\n",
    "\n",
    "plt.plot(x_values,regress_values,\"r-\")\n",
    "\n",
    "plt.show()\n",
    "\n",
    "plt.savefig('Precip_v_Lyft.png')"
   ]
  },
  {
   "cell_type": "code",
   "execution_count": 69,
   "metadata": {},
   "outputs": [
    {
     "name": "stdout",
     "output_type": "stream",
     "text": [
      "Correlation = 0.14\n",
      "P_value = 0.28\n",
      "y = 88672.28x + 3868045.25\n"
     ]
    },
    {
     "data": {
      "image/png": "[encoded data removed]",
      "text/plain": [
       "<Figure size 432x288 with 1 Axes>"
      ]
     },
     "metadata": {
      "needs_background": "light"
     },
     "output_type": "display_data"
    },
    {
     "data": {
      "text/plain": [
       "<Figure size 432x288 with 0 Axes>"
      ]
     },
     "metadata": {},
     "output_type": "display_data"
    }
   ],
   "source": [
    "#collect the data for the scatter plot (Humidity vs Uber Rides)\n",
    "x_values = mean_grouped_weather[\"Humidity (%)\"]\n",
    "\n",
    "y_values = mean_grouped_uber[\"Total Dispatched Trips\"]\n",
    "\n",
    "plt.scatter(x_values, y_values)\n",
    "\n",
    "plt.xlabel(\"Humidity (%)\")\n",
    "plt.ylabel(\"Total Disaptched Trips\")\n",
    "plt.title(\"Humidity (%) vs Total Dispatched Trips (Uber)\")\n",
    "\n",
    "#correlation coefficient\n",
    "correlation = st.pearsonr(x_values,y_values)\n",
    "print(f\"Correlation = {round(correlation[0],2)}\")\n",
    "\n",
    "(slope, intercept, rvalue, pvalue, stderr) = linregress(x_values,y_values)\n",
    "regress_values = x_values * slope + intercept\n",
    "\n",
    "print(f\"P_value = {round(pvalue,2)}\")\n",
    "\n",
    "print(f'y = {round(slope,2)}x + {round(intercept,2)}')\n",
    "\n",
    "plt.plot(x_values,regress_values,\"r-\")\n",
    "\n",
    "plt.show()\n",
    "\n",
    "plt.savefig('Humidity_v_Lyft.png')"
   ]
  },
  {
   "cell_type": "code",
   "execution_count": 70,
   "metadata": {},
   "outputs": [
    {
     "name": "stdout",
     "output_type": "stream",
     "text": [
      "Correlation = 0.09\n",
      "P_value = 0.48\n",
      "y = 22210.96x + 1108678.97\n"
     ]
    },
    {
     "data": {
      "image/png": "[encoded data removed]",
      "text/plain": [
       "<Figure size 432x288 with 1 Axes>"
      ]
     },
     "metadata": {
      "needs_background": "light"
     },
     "output_type": "display_data"
    },
    {
     "data": {
      "text/plain": [
       "<Figure size 432x288 with 0 Axes>"
      ]
     },
     "metadata": {},
     "output_type": "display_data"
    }
   ],
   "source": [
    "#collect the data for the scatter plot (Humidity vs Lyft Rides)\n",
    "x_values = mean_grouped_weather[\"Humidity (%)\"]\n",
    "\n",
    "y_values = mean_grouped_lyft[\"Total Dispatched Trips\"]\n",
    "\n",
    "plt.scatter(x_values, y_values)\n",
    "\n",
    "plt.xlabel(\"Humidity (%)\")\n",
    "plt.ylabel(\"Total Disaptched Trips\")\n",
    "plt.title(\"Humidity (%) vs Total Dispatched Trips (Lyft)\")\n",
    "\n",
    "#correlation coefficient\n",
    "correlation = st.pearsonr(x_values,y_values)\n",
    "print(f\"Correlation = {round(correlation[0],2)}\")\n",
    "\n",
    "(slope, intercept, rvalue, pvalue, stderr) = linregress(x_values,y_values)\n",
    "regress_values = x_values * slope + intercept\n",
    "\n",
    "print(f\"P_value = {round(pvalue,2)}\")\n",
    "\n",
    "print(f'y = {round(slope,2)}x + {round(intercept,2)}')\n",
    "\n",
    "plt.plot(x_values,regress_values,\"r-\")\n",
    "\n",
    "plt.show()\n",
    "\n",
    "plt.savefig('Humidity_v_Lyft.png')"
   ]
  },
  {
   "cell_type": "code",
   "execution_count": 71,
   "metadata": {},
   "outputs": [
    {
     "name": "stdout",
     "output_type": "stream",
     "text": [
      "Correlation = 0.05\n",
      "P_value = 0.73\n",
      "y = 169543.31x + 8766401.43\n"
     ]
    },
    {
     "data": {
      "image/png": "[encoded data removed]",
      "text/plain": [
       "<Figure size 432x288 with 1 Axes>"
      ]
     },
     "metadata": {
      "needs_background": "light"
     },
     "output_type": "display_data"
    },
    {
     "data": {
      "text/plain": [
       "<Figure size 432x288 with 0 Axes>"
      ]
     },
     "metadata": {},
     "output_type": "display_data"
    }
   ],
   "source": [
    "#collect the data for the scatter plot (Wind Speed vs Uber Rides)\n",
    "x_values = mean_grouped_weather[\"Wind Speed (MPH)\"]\n",
    "\n",
    "y_values = mean_grouped_uber[\"Total Dispatched Trips\"]\n",
    "\n",
    "plt.scatter(x_values, y_values)\n",
    "\n",
    "plt.xlabel(\"Wind Speed (MPH)\")\n",
    "plt.ylabel(\"Total Disaptched Trips\")\n",
    "plt.title(\"Wind Speed (MPH) vs Total Dispatched Trips (Uber)\")\n",
    "\n",
    "#correlation coefficient\n",
    "correlation = st.pearsonr(x_values,y_values)\n",
    "print(f\"Correlation = {round(correlation[0],2)}\")\n",
    "\n",
    "(slope, intercept, rvalue, pvalue, stderr) = linregress(x_values,y_values)\n",
    "regress_values = x_values * slope + intercept\n",
    "\n",
    "print(f\"P_value = {round(pvalue,2)}\")\n",
    "\n",
    "print(f'y = {round(slope,2)}x + {round(intercept,2)}')\n",
    "\n",
    "plt.plot(x_values,regress_values,\"r-\")\n",
    "\n",
    "plt.show()\n",
    "\n",
    "plt.savefig('Wind_v_Uber.png')"
   ]
  },
  {
   "cell_type": "code",
   "execution_count": 72,
   "metadata": {},
   "outputs": [
    {
     "name": "stdout",
     "output_type": "stream",
     "text": [
      "Correlation = 0.11\n",
      "P_value = 0.4\n",
      "y = 154658.66x + 1659582.51\n"
     ]
    },
    {
     "data": {
      "image/png": "[encoded data removed]",
      "text/plain": [
       "<Figure size 432x288 with 1 Axes>"
      ]
     },
     "metadata": {
      "needs_background": "light"
     },
     "output_type": "display_data"
    },
    {
     "data": {
      "text/plain": [
       "<Figure size 432x288 with 0 Axes>"
      ]
     },
     "metadata": {},
     "output_type": "display_data"
    }
   ],
   "source": [
    "#collect the data for the scatter plot (Wind Speed vs Lyft Rides)\n",
    "x_values = mean_grouped_weather[\"Wind Speed (MPH)\"]\n",
    "\n",
    "y_values = mean_grouped_lyft[\"Total Dispatched Trips\"]\n",
    "\n",
    "plt.scatter(x_values, y_values)\n",
    "\n",
    "plt.xlabel(\"Wind Speed (MPH)\")\n",
    "plt.ylabel(\"Total Disaptched Trips\")\n",
    "plt.title(\"Wind Speed (MPH) vs Total Dispatched Trips (Lyft)\")\n",
    "\n",
    "#correlation coefficient\n",
    "correlation = st.pearsonr(x_values,y_values)\n",
    "print(f\"Correlation = {round(correlation[0],2)}\")\n",
    "\n",
    "(slope, intercept, rvalue, pvalue, stderr) = linregress(x_values,y_values)\n",
    "regress_values = x_values * slope + intercept\n",
    "\n",
    "print(f\"P_value = {round(pvalue,2)}\")\n",
    "\n",
    "print(f'y = {round(slope,2)}x + {round(intercept,2)}')\n",
    "\n",
    "plt.plot(x_values,regress_values,\"r-\")\n",
    "\n",
    "plt.show()\n",
    "\n",
    "plt.savefig('Wind_v_Lyft.png')"
   ]
  },
  {
   "cell_type": "code",
   "execution_count": null,
   "metadata": {},
   "outputs": [],
   "source": []
  }
 ],
 "metadata": {
  "kernelspec": {
   "display_name": "Python 3",
   "language": "python",
   "name": "python3"
  },
  "language_info": {
   "codemirror_mode": {
    "name": "ipython",
    "version": 3
   },
   "file_extension": ".py",
   "mimetype": "text/x-python",
   "name": "python",
   "nbconvert_exporter": "python",
   "pygments_lexer": "ipython3",
   "version": "3.6.10"
  }
 },
 "nbformat": 4,
 "nbformat_minor": 4
}
