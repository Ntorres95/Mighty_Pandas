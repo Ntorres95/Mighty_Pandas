{
 "cells": [
  {
   "cell_type": "code",
   "execution_count": 67,
   "metadata": {},
   "outputs": [],
   "source": [
    "#dependencies\n",
    "import requests\n",
    "import json\n",
    "import datetime\n",
    "import numpy as np\n",
    "import pandas as pd\n",
    "import os\n",
    "import matplotlib.pyplot as plt"
   ]
  },
  {
   "cell_type": "code",
   "execution_count": 68,
   "metadata": {},
   "outputs": [
    {
     "data": {
      "text/html": [
       "<div>\n",
       "<style scoped>\n",
       "    .dataframe tbody tr th:only-of-type {\n",
       "        vertical-align: middle;\n",
       "    }\n",
       "\n",
       "    .dataframe tbody tr th {\n",
       "        vertical-align: top;\n",
       "    }\n",
       "\n",
       "    .dataframe thead th {\n",
       "        text-align: right;\n",
       "    }\n",
       "</style>\n",
       "<table border=\"1\" class=\"dataframe\">\n",
       "  <thead>\n",
       "    <tr style=\"text-align: right;\">\n",
       "      <th></th>\n",
       "      <th>Unnamed: 0</th>\n",
       "      <th>Month</th>\n",
       "      <th>Temperature (F)</th>\n",
       "      <th>Humitdity (%)</th>\n",
       "      <th>Snowfall Depth (in)</th>\n",
       "      <th>Wind Speed (MPH)</th>\n",
       "      <th>Precipitation (in)</th>\n",
       "    </tr>\n",
       "  </thead>\n",
       "  <tbody>\n",
       "    <tr>\n",
       "      <th>0</th>\n",
       "      <td>0</td>\n",
       "      <td>2</td>\n",
       "      <td>30.2</td>\n",
       "      <td>44.1</td>\n",
       "      <td>0.0</td>\n",
       "      <td>11.0</td>\n",
       "      <td>0.00</td>\n",
       "    </tr>\n",
       "    <tr>\n",
       "      <th>1</th>\n",
       "      <td>1</td>\n",
       "      <td>3</td>\n",
       "      <td>34.1</td>\n",
       "      <td>47.2</td>\n",
       "      <td>0.0</td>\n",
       "      <td>7.3</td>\n",
       "      <td>0.00</td>\n",
       "    </tr>\n",
       "    <tr>\n",
       "      <th>2</th>\n",
       "      <td>2</td>\n",
       "      <td>3</td>\n",
       "      <td>47.8</td>\n",
       "      <td>56.0</td>\n",
       "      <td>0.0</td>\n",
       "      <td>6.7</td>\n",
       "      <td>0.00</td>\n",
       "    </tr>\n",
       "    <tr>\n",
       "      <th>3</th>\n",
       "      <td>3</td>\n",
       "      <td>3</td>\n",
       "      <td>52.0</td>\n",
       "      <td>79.9</td>\n",
       "      <td>0.0</td>\n",
       "      <td>6.2</td>\n",
       "      <td>0.23</td>\n",
       "    </tr>\n",
       "    <tr>\n",
       "      <th>4</th>\n",
       "      <td>4</td>\n",
       "      <td>3</td>\n",
       "      <td>49.9</td>\n",
       "      <td>50.3</td>\n",
       "      <td>0.0</td>\n",
       "      <td>12.4</td>\n",
       "      <td>0.00</td>\n",
       "    </tr>\n",
       "    <tr>\n",
       "      <th>...</th>\n",
       "      <td>...</td>\n",
       "      <td>...</td>\n",
       "      <td>...</td>\n",
       "      <td>...</td>\n",
       "      <td>...</td>\n",
       "      <td>...</td>\n",
       "      <td>...</td>\n",
       "    </tr>\n",
       "    <tr>\n",
       "      <th>1877</th>\n",
       "      <td>1877</td>\n",
       "      <td>10</td>\n",
       "      <td>50.6</td>\n",
       "      <td>68.6</td>\n",
       "      <td>0.0</td>\n",
       "      <td>4.0</td>\n",
       "      <td>0.00</td>\n",
       "    </tr>\n",
       "    <tr>\n",
       "      <th>1878</th>\n",
       "      <td>1878</td>\n",
       "      <td>10</td>\n",
       "      <td>59.5</td>\n",
       "      <td>91.3</td>\n",
       "      <td>0.0</td>\n",
       "      <td>11.0</td>\n",
       "      <td>1.19</td>\n",
       "    </tr>\n",
       "    <tr>\n",
       "      <th>1879</th>\n",
       "      <td>1879</td>\n",
       "      <td>10</td>\n",
       "      <td>64.1</td>\n",
       "      <td>62.0</td>\n",
       "      <td>0.0</td>\n",
       "      <td>9.1</td>\n",
       "      <td>0.05</td>\n",
       "    </tr>\n",
       "    <tr>\n",
       "      <th>1880</th>\n",
       "      <td>1880</td>\n",
       "      <td>10</td>\n",
       "      <td>52.5</td>\n",
       "      <td>47.6</td>\n",
       "      <td>0.0</td>\n",
       "      <td>7.4</td>\n",
       "      <td>0.00</td>\n",
       "    </tr>\n",
       "    <tr>\n",
       "      <th>1881</th>\n",
       "      <td>1881</td>\n",
       "      <td>10</td>\n",
       "      <td>48.2</td>\n",
       "      <td>62.2</td>\n",
       "      <td>0.0</td>\n",
       "      <td>3.6</td>\n",
       "      <td>0.00</td>\n",
       "    </tr>\n",
       "  </tbody>\n",
       "</table>\n",
       "<p>1882 rows × 7 columns</p>\n",
       "</div>"
      ],
      "text/plain": [
       "      Unnamed: 0  Month  Temperature (F)  Humitdity (%)  Snowfall Depth (in)  \\\n",
       "0              0      2             30.2           44.1                  0.0   \n",
       "1              1      3             34.1           47.2                  0.0   \n",
       "2              2      3             47.8           56.0                  0.0   \n",
       "3              3      3             52.0           79.9                  0.0   \n",
       "4              4      3             49.9           50.3                  0.0   \n",
       "...          ...    ...              ...            ...                  ...   \n",
       "1877        1877     10             50.6           68.6                  0.0   \n",
       "1878        1878     10             59.5           91.3                  0.0   \n",
       "1879        1879     10             64.1           62.0                  0.0   \n",
       "1880        1880     10             52.5           47.6                  0.0   \n",
       "1881        1881     10             48.2           62.2                  0.0   \n",
       "\n",
       "      Wind Speed (MPH)  Precipitation (in)  \n",
       "0                 11.0                0.00  \n",
       "1                  7.3                0.00  \n",
       "2                  6.7                0.00  \n",
       "3                  6.2                0.23  \n",
       "4                 12.4                0.00  \n",
       "...                ...                 ...  \n",
       "1877               4.0                0.00  \n",
       "1878              11.0                1.19  \n",
       "1879               9.1                0.05  \n",
       "1880               7.4                0.00  \n",
       "1881               3.6                0.00  \n",
       "\n",
       "[1882 rows x 7 columns]"
      ]
     },
     "execution_count": 68,
     "metadata": {},
     "output_type": "execute_result"
    }
   ],
   "source": [
    "data = 'weather_by_month'\n",
    "weather_data_df = pd.read_csv(data)\n",
    "weather_data_df\n",
    "weather_data_df['Month'] = weather_data_df['Month'].map(lambda x: int(x[-2:]))\n",
    "weather_data_df\n"
   ]
  },
  {
   "cell_type": "code",
   "execution_count": 69,
   "metadata": {},
   "outputs": [],
   "source": [
    "seasons = [[12,1,2],[3,4,5],[6,7,8],[9,10,11]]\n",
    "measurements = list(weather_data_df.drop(columns=['Unnamed: 0','Month']).keys())"
   ]
  },
  {
   "cell_type": "code",
   "execution_count": 70,
   "metadata": {},
   "outputs": [
    {
     "data": {
      "text/plain": [
       "['Temperature (F)',\n",
       " 'Humitdity (%)',\n",
       " 'Snowfall Depth (in)',\n",
       " 'Wind Speed (MPH)',\n",
       " 'Precipitation (in)']"
      ]
     },
     "execution_count": 70,
     "metadata": {},
     "output_type": "execute_result"
    }
   ],
   "source": [
    "measurements"
   ]
  },
  {
   "cell_type": "markdown",
   "metadata": {},
   "source": []
  },
  {
   "cell_type": "code",
   "execution_count": 71,
   "metadata": {},
   "outputs": [],
   "source": [
    "def box_data(column):\n",
    "    seasonal_temps = []\n",
    "\n",
    "    for season in seasons:\n",
    "\n",
    "    # season = seasons[0]\n",
    "        season_df = weather_data_df.loc[\n",
    "            (weather_data_df['Month']==season[0])|\n",
    "            (weather_data_df['Month']==season[1])|\n",
    "            (weather_data_df['Month']==season[2])\n",
    "        ]\n",
    "\n",
    "        seasonal_temps.append(season_df[column])\n",
    "\n",
    "    return seasonal_temps"
   ]
  },
  {
   "cell_type": "code",
   "execution_count": null,
   "metadata": {},
   "outputs": [],
   "source": [
    "m = 0\n",
    "fig, ax = plt.subplots(2,3,figsize=(15,8))\n",
    "\n",
    "for row in ax:\n",
    "    for col in row:\n",
    "        try:\n",
    "            measurement = measurements[m]\n",
    "            title=measurement\n",
    "            unit=measurement\n",
    "            col.set_title(title)\n",
    "            col.set_ylabel(unit)\n",
    "            col.boxplot(box_data(measurement),labels=['winter','spring','summer','fall'])\n",
    "            m += 1\n",
    "        except:IndexError\n",
    "plt.show()\n",
    "        "
   ]
  },
  {
   "cell_type": "code",
   "execution_count": 85,
   "metadata": {},
   "outputs": [
    {
     "data": {
      "image/png": "[encoded data removed]",
      "text/plain": [
       "<Figure size 432x288 with 1 Axes>"
      ]
     },
     "metadata": {
      "needs_background": "light"
     },
     "output_type": "display_data"
    },
    {
     "name": "stdout",
     "output_type": "stream",
     "text": [
      "The lower quartile of temperature is: 41.3\n",
      "The upper quartile of temperature is: 72.27499999999999\n",
      "The interquartile range of temperature is: 30.974999999999994\n",
      "The the median of temperature is: 54.7 \n",
      "Values below -5.162499999999994 could be outliers.\n",
      "Values above 118.73749999999998 could be outliers.\n"
     ]
    }
   ],
   "source": [
    "fig2, ax2 = plt.subplots()\n",
    "ax2.set_title('Temperature')\n",
    "ax2.set_ylabel('F')\n",
    "ax2.boxplot(box_data('Temperature (F)'),labels=['winter','spring','summer','fall'])\n",
    "plt.show()\n",
    "\n",
    "temperature = (weather_data_df['Temperature (F)'])\n",
    "quartiles = temperature.quantile([.25,.5,.75])\n",
    "lowerq = quartiles[0.25]\n",
    "upperq = quartiles[0.75]\n",
    "iqr = upperq-lowerq\n",
    "\n",
    "\n",
    "print(f\"The lower quartile of temperature is: {lowerq}\")\n",
    "print(f\"The upper quartile of temperature is: {upperq}\")\n",
    "print(f\"The interquartile range of temperature is: {iqr}\")\n",
    "print(f\"The the median of temperature is: {quartiles[0.5]} \")\n",
    "\n",
    "lower_bound = lowerq - (1.5*iqr)\n",
    "upper_bound = upperq + (1.5*iqr)\n",
    "print(f\"Values below {lower_bound} could be outliers.\")\n",
    "print(f\"Values above {upper_bound} could be outliers.\")"
   ]
  },
  {
   "cell_type": "code",
   "execution_count": 79,
   "metadata": {},
   "outputs": [
    {
     "data": {
      "image/png": "[encoded data removed]",
      "text/plain": [
       "<Figure size 432x288 with 1 Axes>"
      ]
     },
     "metadata": {
      "needs_background": "light"
     },
     "output_type": "display_data"
    },
    {
     "name": "stdout",
     "output_type": "stream",
     "text": [
      "The lower quartile of Wind Speed is: 4.3\n",
      "The upper quartile of Wind Speed is: 7.1\n",
      "The interquartile range of Wind Speed is: 2.8\n",
      "The the median of Wind Speed is: 5.5 \n",
      "Values below 0.10000000000000053 could be outliers.\n",
      "Values above 11.299999999999999 could be outliers.\n"
     ]
    }
   ],
   "source": [
    "fig2, ax2 = plt.subplots()\n",
    "ax2.set_title('Wind Speed')\n",
    "ax2.set_ylabel('MPH')\n",
    "ax2.boxplot(box_data('Wind Speed (MPH)'),labels=['winter','spring','summer','fall'])\n",
    "plt.show()\n",
    "\n",
    "wind_speed = (weather_data_df['Wind Speed (MPH)'])\n",
    "quartiles = wind_speed.quantile([.25,.5,.75])\n",
    "lowerq = quartiles[0.25]\n",
    "upperq = quartiles[0.75]\n",
    "iqr = upperq-lowerq\n",
    "\n",
    "\n",
    "print(f\"The lower quartile of Wind Speed is: {lowerq}\")\n",
    "print(f\"The upper quartile of Wind Speed is: {upperq}\")\n",
    "print(f\"The interquartile range of Wind Speed is: {iqr}\")\n",
    "print(f\"The the median of Wind Speed is: {quartiles[0.5]} \")\n",
    "\n",
    "lower_bound = lowerq - (1.5*iqr)\n",
    "upper_bound = upperq + (1.5*iqr)\n",
    "print(f\"Values below {lower_bound} could be outliers.\")\n",
    "print(f\"Values above {upper_bound} could be outliers.\")"
   ]
  },
  {
   "cell_type": "code",
   "execution_count": 81,
   "metadata": {},
   "outputs": [
    {
     "data": {
      "image/png": "[encoded data removed]",
      "text/plain": [
       "<Figure size 432x288 with 1 Axes>"
      ]
     },
     "metadata": {
      "needs_background": "light"
     },
     "output_type": "display_data"
    },
    {
     "name": "stdout",
     "output_type": "stream",
     "text": [
      "The lower quartile of humidity is: 56.2\n",
      "The upper quartile of humidity is: 76.9\n",
      "The interquartile range of humidity is: 20.700000000000003\n",
      "The the median of humidity is: 65.65 \n",
      "Values below 25.15 could be outliers.\n",
      "Values above 107.95000000000002 could be outliers.\n"
     ]
    }
   ],
   "source": [
    "fig2, ax2 = plt.subplots()\n",
    "ax2.set_title('Humidity')\n",
    "ax2.set_ylabel('%')\n",
    "ax2.boxplot(box_data('Humitdity (%)'),labels=['winter','spring','summer','fall'])\n",
    "plt.show()\n",
    "\n",
    "humidity = (weather_data_df['Humitdity (%)'])\n",
    "quartiles = humidity.quantile([.25,.5,.75])\n",
    "lowerq = quartiles[0.25]\n",
    "upperq = quartiles[0.75]\n",
    "iqr = upperq-lowerq\n",
    "\n",
    "\n",
    "print(f\"The lower quartile of humidity is: {lowerq}\")\n",
    "print(f\"The upper quartile of humidity is: {upperq}\")\n",
    "print(f\"The interquartile range of humidity is: {iqr}\")\n",
    "print(f\"The the median of humidity is: {quartiles[0.5]} \")\n",
    "\n",
    "lower_bound = lowerq - (1.5*iqr)\n",
    "upper_bound = upperq + (1.5*iqr)\n",
    "print(f\"Values below {lower_bound} could be outliers.\")\n",
    "print(f\"Values above {upper_bound} could be outliers.\")"
   ]
  },
  {
   "cell_type": "code",
   "execution_count": 82,
   "metadata": {},
   "outputs": [
    {
     "data": {
      "image/png": "[encoded data removed]",
      "text/plain": [
       "<Figure size 432x288 with 1 Axes>"
      ]
     },
     "metadata": {
      "needs_background": "light"
     },
     "output_type": "display_data"
    },
    {
     "name": "stdout",
     "output_type": "stream",
     "text": [
      "The lower quartile of snowfall is: 0.0\n",
      "The upper quartile of snowfall is: 0.0\n",
      "The interquartile range of snowfall is: 0.0\n",
      "The the median of snowfall is: 0.0 \n",
      "Values below 0.0 could be outliers.\n",
      "Values above 0.0 could be outliers.\n"
     ]
    }
   ],
   "source": [
    "fig2, ax2 = plt.subplots()\n",
    "ax2.set_title('Snowfall Depth')\n",
    "ax2.set_ylabel('in')\n",
    "ax2.boxplot(box_data('Snowfall Depth (in)'),labels=['winter','spring','summer','fall'])\n",
    "plt.show()\n",
    "\n",
    "snowfall = (weather_data_df['Snowfall Depth (in)'])\n",
    "quartiles = snowfall.quantile([.25,.5,.75])\n",
    "lowerq = quartiles[0.25]\n",
    "upperq = quartiles[0.75]\n",
    "iqr = upperq-lowerq\n",
    "\n",
    "\n",
    "print(f\"The lower quartile of snowfall is: {lowerq}\")\n",
    "print(f\"The upper quartile of snowfall is: {upperq}\")\n",
    "print(f\"The interquartile range of snowfall is: {iqr}\")\n",
    "print(f\"The the median of snowfall is: {quartiles[0.5]} \")\n",
    "\n",
    "lower_bound = lowerq - (1.5*iqr)\n",
    "upper_bound = upperq + (1.5*iqr)\n",
    "print(f\"Values below {lower_bound} could be outliers.\")\n",
    "print(f\"Values above {upper_bound} could be outliers.\")"
   ]
  },
  {
   "cell_type": "code",
   "execution_count": 84,
   "metadata": {},
   "outputs": [
    {
     "data": {
      "image/png": "[encoded data removed]",
      "text/plain": [
       "<Figure size 432x288 with 1 Axes>"
      ]
     },
     "metadata": {
      "needs_background": "light"
     },
     "output_type": "display_data"
    },
    {
     "name": "stdout",
     "output_type": "stream",
     "text": [
      "The lower quartile of percipitation is: 0.0\n",
      "The upper quartile of percipitation is: 0.06\n",
      "The interquartile range of percipitation is: 0.06\n",
      "The the median of percipitation is: 0.0 \n",
      "Values below -0.09 could be outliers.\n",
      "Values above 0.15 could be outliers.\n"
     ]
    }
   ],
   "source": [
    "fig2, ax2 = plt.subplots()\n",
    "ax2.set_title('Percipitation')\n",
    "ax2.set_ylabel('in')\n",
    "ax2.boxplot(box_data('Precipitation (in)'),labels=['winter','spring','summer','fall'])\n",
    "plt.show()\n",
    "\n",
    "percpitation = (weather_data_df['Precipitation (in)'])\n",
    "quartiles = percpitation.quantile([.25,.5,.75])\n",
    "lowerq = quartiles[0.25]\n",
    "upperq = quartiles[0.75]\n",
    "iqr = upperq-lowerq\n",
    "\n",
    "\n",
    "print(f\"The lower quartile of percipitation is: {lowerq}\")\n",
    "print(f\"The upper quartile of percipitation is: {upperq}\")\n",
    "print(f\"The interquartile range of percipitation is: {iqr}\")\n",
    "print(f\"The the median of percipitation is: {quartiles[0.5]} \")\n",
    "\n",
    "lower_bound = lowerq - (1.5*iqr)\n",
    "upper_bound = upperq + (1.5*iqr)\n",
    "print(f\"Values below {lower_bound} could be outliers.\")\n",
    "print(f\"Values above {upper_bound} could be outliers.\")"
   ]
  },
  {
   "cell_type": "code",
   "execution_count": null,
   "metadata": {},
   "outputs": [],
   "source": []
  },
  {
   "cell_type": "code",
   "execution_count": null,
   "metadata": {},
   "outputs": [],
   "source": []
  },
  {
   "cell_type": "code",
   "execution_count": 42,
   "metadata": {},
   "outputs": [],
   "source": [
    "wind_speed = (weather_data_df['Wind Speed (MPH)'])\n",
    "# fig1, ax1 = plt.subplots()\n",
    "# ax1.set_title('Wind Speed')\n",
    "# ax1.set_ylabel('MPH')\n",
    "# ax1.boxplot(wind_speed)\n",
    "# plt.show()"
   ]
  },
  {
   "cell_type": "code",
   "execution_count": 78,
   "metadata": {},
   "outputs": [
    {
     "name": "stdout",
     "output_type": "stream",
     "text": [
      "The lower quartile of Wind Speed is: 4.3\n",
      "The upper quartile of Wind Speed is: 7.1\n",
      "The interquartile range of Wind Speed is: 2.8\n",
      "The the median of Wind Speed is: 5.5 \n",
      "Values below 0.10000000000000053 could be outliers.\n",
      "Values above 11.299999999999999 could be outliers.\n"
     ]
    }
   ],
   "source": [
    "quartiles = wind_speed.quantile([.25,.5,.75])\n",
    "lowerq = quartiles[0.25]\n",
    "upperq = quartiles[0.75]\n",
    "iqr = upperq-lowerq\n",
    "\n",
    "print(f\"The lower quartile of Wind Speed is: {lowerq}\")\n",
    "print(f\"The upper quartile of Wind Speed is: {upperq}\")\n",
    "print(f\"The interquartile range of Wind Speed is: {iqr}\")\n",
    "print(f\"The the median of Wind Speed is: {quartiles[0.5]} \")\n",
    "\n",
    "lower_bound = lowerq - (1.5*iqr)\n",
    "upper_bound = upperq + (1.5*iqr)\n",
    "print(f\"Values below {lower_bound} could be outliers.\")\n",
    "print(f\"Values above {upper_bound} could be outliers.\")"
   ]
  },
  {
   "cell_type": "code",
   "execution_count": 43,
   "metadata": {},
   "outputs": [],
   "source": [
    "# temp = (weather_data_df['Temperature (F)'])\n",
    "# fig2, ax2 = plt.subplots()\n",
    "# ax2.set_title('Temperature')\n",
    "# ax2.set_ylabel('F')\n",
    "# ax2.boxplot(temp)\n",
    "# plt.show()"
   ]
  },
  {
   "cell_type": "code",
   "execution_count": 44,
   "metadata": {},
   "outputs": [],
   "source": [
    "# quartiles_t = temp.quantile([.25,.5,.75])\n",
    "# lowerq = quartiles_t[0.25]\n",
    "# upperq = quartiles_t[0.75]\n",
    "# iqr = upperq-lowerq\n",
    "\n",
    "# print(f\"The lower quartile of temperatures is: {lowerq}\")\n",
    "# print(f\"The upper quartile of temperatures is: {upperq}\")\n",
    "# print(f\"The interquartile range of temperatures is: {iqr}\")\n",
    "# print(f\"The the median of temperatures is: {quartiles[0.5]} \")\n",
    "\n",
    "# lower_bound = lowerq - (1.5*iqr)\n",
    "# upper_bound = upperq + (1.5*iqr)\n",
    "# print(f\"Values below {lower_bound} could be outliers.\")\n",
    "# print(f\"Values above {upper_bound} could be outliers.\")"
   ]
  },
  {
   "cell_type": "code",
   "execution_count": null,
   "metadata": {},
   "outputs": [],
   "source": []
  },
  {
   "cell_type": "code",
   "execution_count": null,
   "metadata": {},
   "outputs": [],
   "source": []
  }
 ],
 "metadata": {
  "kernelspec": {
   "display_name": "Python 3",
   "language": "python",
   "name": "python3"
  },
  "language_info": {
   "codemirror_mode": {
    "name": "ipython",
    "version": 3
   },
   "file_extension": ".py",
   "mimetype": "text/x-python",
   "name": "python",
   "nbconvert_exporter": "python",
   "pygments_lexer": "ipython3",
   "version": "3.6.10"
  }
 },
 "nbformat": 4,
 "nbformat_minor": 4
}
