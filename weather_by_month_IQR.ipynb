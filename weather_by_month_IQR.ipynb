{
 "cells": [
  {
   "cell_type": "code",
   "execution_count": 5,
   "metadata": {},
   "outputs": [],
   "source": [
    "#dependencies\n",
    "import requests\n",
    "import json\n",
    "import datetime\n",
    "import numpy as np\n",
    "import pandas as pd\n",
    "import os\n",
    "import matplotlib.pyplot as plt"
   ]
  },
  {
   "cell_type": "code",
   "execution_count": 13,
   "metadata": {},
   "outputs": [
    {
     "data": {
      "text/html": [
       "<div>\n",
       "<style scoped>\n",
       "    .dataframe tbody tr th:only-of-type {\n",
       "        vertical-align: middle;\n",
       "    }\n",
       "\n",
       "    .dataframe tbody tr th {\n",
       "        vertical-align: top;\n",
       "    }\n",
       "\n",
       "    .dataframe thead th {\n",
       "        text-align: right;\n",
       "    }\n",
       "</style>\n",
       "<table border=\"1\" class=\"dataframe\">\n",
       "  <thead>\n",
       "    <tr style=\"text-align: right;\">\n",
       "      <th></th>\n",
       "      <th>Unnamed: 0</th>\n",
       "      <th>Month</th>\n",
       "      <th>Temperature (F)</th>\n",
       "      <th>Humitdity (%)</th>\n",
       "      <th>Snowfall Depth (in)</th>\n",
       "      <th>Wind Speed (MPH)</th>\n",
       "      <th>Precipitation (in)</th>\n",
       "    </tr>\n",
       "  </thead>\n",
       "  <tbody>\n",
       "    <tr>\n",
       "      <th>0</th>\n",
       "      <td>0</td>\n",
       "      <td>2020-02</td>\n",
       "      <td>30.2</td>\n",
       "      <td>44.1</td>\n",
       "      <td>0.0</td>\n",
       "      <td>11.0</td>\n",
       "      <td>0.00</td>\n",
       "    </tr>\n",
       "    <tr>\n",
       "      <th>1</th>\n",
       "      <td>1</td>\n",
       "      <td>2020-03</td>\n",
       "      <td>34.1</td>\n",
       "      <td>47.2</td>\n",
       "      <td>0.0</td>\n",
       "      <td>7.3</td>\n",
       "      <td>0.00</td>\n",
       "    </tr>\n",
       "    <tr>\n",
       "      <th>2</th>\n",
       "      <td>2</td>\n",
       "      <td>2020-03</td>\n",
       "      <td>47.8</td>\n",
       "      <td>56.0</td>\n",
       "      <td>0.0</td>\n",
       "      <td>6.7</td>\n",
       "      <td>0.00</td>\n",
       "    </tr>\n",
       "    <tr>\n",
       "      <th>3</th>\n",
       "      <td>3</td>\n",
       "      <td>2020-03</td>\n",
       "      <td>52.0</td>\n",
       "      <td>79.9</td>\n",
       "      <td>0.0</td>\n",
       "      <td>6.2</td>\n",
       "      <td>0.23</td>\n",
       "    </tr>\n",
       "    <tr>\n",
       "      <th>4</th>\n",
       "      <td>4</td>\n",
       "      <td>2020-03</td>\n",
       "      <td>49.9</td>\n",
       "      <td>50.3</td>\n",
       "      <td>0.0</td>\n",
       "      <td>12.4</td>\n",
       "      <td>0.00</td>\n",
       "    </tr>\n",
       "    <tr>\n",
       "      <th>...</th>\n",
       "      <td>...</td>\n",
       "      <td>...</td>\n",
       "      <td>...</td>\n",
       "      <td>...</td>\n",
       "      <td>...</td>\n",
       "      <td>...</td>\n",
       "      <td>...</td>\n",
       "    </tr>\n",
       "    <tr>\n",
       "      <th>1877</th>\n",
       "      <td>1877</td>\n",
       "      <td>2015-10</td>\n",
       "      <td>50.6</td>\n",
       "      <td>68.6</td>\n",
       "      <td>0.0</td>\n",
       "      <td>4.0</td>\n",
       "      <td>0.00</td>\n",
       "    </tr>\n",
       "    <tr>\n",
       "      <th>1878</th>\n",
       "      <td>1878</td>\n",
       "      <td>2015-10</td>\n",
       "      <td>59.5</td>\n",
       "      <td>91.3</td>\n",
       "      <td>0.0</td>\n",
       "      <td>11.0</td>\n",
       "      <td>1.19</td>\n",
       "    </tr>\n",
       "    <tr>\n",
       "      <th>1879</th>\n",
       "      <td>1879</td>\n",
       "      <td>2015-10</td>\n",
       "      <td>64.1</td>\n",
       "      <td>62.0</td>\n",
       "      <td>0.0</td>\n",
       "      <td>9.1</td>\n",
       "      <td>0.05</td>\n",
       "    </tr>\n",
       "    <tr>\n",
       "      <th>1880</th>\n",
       "      <td>1880</td>\n",
       "      <td>2015-10</td>\n",
       "      <td>52.5</td>\n",
       "      <td>47.6</td>\n",
       "      <td>0.0</td>\n",
       "      <td>7.4</td>\n",
       "      <td>0.00</td>\n",
       "    </tr>\n",
       "    <tr>\n",
       "      <th>1881</th>\n",
       "      <td>1881</td>\n",
       "      <td>2015-10</td>\n",
       "      <td>48.2</td>\n",
       "      <td>62.2</td>\n",
       "      <td>0.0</td>\n",
       "      <td>3.6</td>\n",
       "      <td>0.00</td>\n",
       "    </tr>\n",
       "  </tbody>\n",
       "</table>\n",
       "<p>1882 rows × 7 columns</p>\n",
       "</div>"
      ],
      "text/plain": [
       "      Unnamed: 0    Month  Temperature (F)  Humitdity (%)  \\\n",
       "0              0  2020-02             30.2           44.1   \n",
       "1              1  2020-03             34.1           47.2   \n",
       "2              2  2020-03             47.8           56.0   \n",
       "3              3  2020-03             52.0           79.9   \n",
       "4              4  2020-03             49.9           50.3   \n",
       "...          ...      ...              ...            ...   \n",
       "1877        1877  2015-10             50.6           68.6   \n",
       "1878        1878  2015-10             59.5           91.3   \n",
       "1879        1879  2015-10             64.1           62.0   \n",
       "1880        1880  2015-10             52.5           47.6   \n",
       "1881        1881  2015-10             48.2           62.2   \n",
       "\n",
       "      Snowfall Depth (in)  Wind Speed (MPH)  Precipitation (in)  \n",
       "0                     0.0              11.0                0.00  \n",
       "1                     0.0               7.3                0.00  \n",
       "2                     0.0               6.7                0.00  \n",
       "3                     0.0               6.2                0.23  \n",
       "4                     0.0              12.4                0.00  \n",
       "...                   ...               ...                 ...  \n",
       "1877                  0.0               4.0                0.00  \n",
       "1878                  0.0              11.0                1.19  \n",
       "1879                  0.0               9.1                0.05  \n",
       "1880                  0.0               7.4                0.00  \n",
       "1881                  0.0               3.6                0.00  \n",
       "\n",
       "[1882 rows x 7 columns]"
      ]
     },
     "execution_count": 13,
     "metadata": {},
     "output_type": "execute_result"
    }
   ],
   "source": [
    "data = 'weather_by_month'\n",
    "weather_data_df = pd.read_csv(data)\n",
    "weather_data_df"
   ]
  },
  {
   "cell_type": "code",
   "execution_count": 11,
   "metadata": {},
   "outputs": [
    {
     "data": {
      "image/png": "[encoded data removed]",
      "text/plain": [
       "<Figure size 432x288 with 1 Axes>"
      ]
     },
     "metadata": {
      "needs_background": "light"
     },
     "output_type": "display_data"
    }
   ],
   "source": [
    "wind_speed = (weather_data_df['Wind Speed (MPH)'])\n",
    "fig1, ax1 = plt.subplots()\n",
    "ax1.set_title('Wind Speed')\n",
    "ax1.set_ylabel('MPH')\n",
    "ax1.boxplot(wind_speed)\n",
    "plt.show()"
   ]
  },
  {
   "cell_type": "code",
   "execution_count": 15,
   "metadata": {},
   "outputs": [
    {
     "name": "stdout",
     "output_type": "stream",
     "text": [
      "The lower quartile of Wind Speed is: 4.3\n",
      "The upper quartile of Wind Speed is: 7.1\n",
      "The interquartile range of Wind Speed is: 2.8\n",
      "The the median of Wind Speed is: 5.5 \n",
      "Values below 0.10000000000000053 could be outliers.\n",
      "Values above 11.299999999999999 could be outliers.\n"
     ]
    }
   ],
   "source": [
    "quartiles = wind_speed.quantile([.25,.5,.75])\n",
    "lowerq = quartiles[0.25]\n",
    "upperq = quartiles[0.75]\n",
    "iqr = upperq-lowerq\n",
    "\n",
    "print(f\"The lower quartile of Wind Speed is: {lowerq}\")\n",
    "print(f\"The upper quartile of Wind Speed is: {upperq}\")\n",
    "print(f\"The interquartile range of Wind Speed is: {iqr}\")\n",
    "print(f\"The the median of Wind Speed is: {quartiles[0.5]} \")\n",
    "\n",
    "lower_bound = lowerq - (1.5*iqr)\n",
    "upper_bound = upperq + (1.5*iqr)\n",
    "print(f\"Values below {lower_bound} could be outliers.\")\n",
    "print(f\"Values above {upper_bound} could be outliers.\")"
   ]
  },
  {
   "cell_type": "code",
   "execution_count": 12,
   "metadata": {},
   "outputs": [
    {
     "data": {
      "image/png": "[encoded data removed]",
      "text/plain": [
       "<Figure size 432x288 with 1 Axes>"
      ]
     },
     "metadata": {
      "needs_background": "light"
     },
     "output_type": "display_data"
    }
   ],
   "source": [
    "temp = (weather_data_df['Temperature (F)'])\n",
    "fig2, ax2 = plt.subplots()\n",
    "ax2.set_title('Temperature')\n",
    "ax2.set_ylabel('F')\n",
    "ax2.boxplot(temp)\n",
    "plt.show()"
   ]
  },
  {
   "cell_type": "code",
   "execution_count": 16,
   "metadata": {},
   "outputs": [
    {
     "name": "stdout",
     "output_type": "stream",
     "text": [
      "The lower quartile of temperatures is: 41.3\n",
      "The upper quartile of temperatures is: 72.27499999999999\n",
      "The interquartile range of temperatures is: 30.974999999999994\n",
      "The the median of temperatures is: 5.5 \n",
      "Values below -5.162499999999994 could be outliers.\n",
      "Values above 118.73749999999998 could be outliers.\n"
     ]
    }
   ],
   "source": [
    "quartiles_t = temp.quantile([.25,.5,.75])\n",
    "lowerq = quartiles_t[0.25]\n",
    "upperq = quartiles_t[0.75]\n",
    "iqr = upperq-lowerq\n",
    "\n",
    "print(f\"The lower quartile of temperatures is: {lowerq}\")\n",
    "print(f\"The upper quartile of temperatures is: {upperq}\")\n",
    "print(f\"The interquartile range of temperatures is: {iqr}\")\n",
    "print(f\"The the median of temperatures is: {quartiles[0.5]} \")\n",
    "\n",
    "lower_bound = lowerq - (1.5*iqr)\n",
    "upper_bound = upperq + (1.5*iqr)\n",
    "print(f\"Values below {lower_bound} could be outliers.\")\n",
    "print(f\"Values above {upper_bound} could be outliers.\")"
   ]
  },
  {
   "cell_type": "code",
   "execution_count": null,
   "metadata": {},
   "outputs": [],
   "source": []
  },
  {
   "cell_type": "code",
   "execution_count": null,
   "metadata": {},
   "outputs": [],
   "source": []
  }
 ],
 "metadata": {
  "kernelspec": {
   "display_name": "Python 3",
   "language": "python",
   "name": "python3"
  },
  "language_info": {
   "codemirror_mode": {
    "name": "ipython",
    "version": 3
   },
   "file_extension": ".py",
   "mimetype": "text/x-python",
   "name": "python",
   "nbconvert_exporter": "python",
   "pygments_lexer": "ipython3",
   "version": "3.6.10"
  }
 },
 "nbformat": 4,
 "nbformat_minor": 4
}
