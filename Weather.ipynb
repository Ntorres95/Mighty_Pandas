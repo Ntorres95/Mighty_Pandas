{
 "cells": [
  {
   "cell_type": "code",
   "execution_count": 3,
   "metadata": {},
   "outputs": [],
   "source": [
    "import json\n",
    "import os\n",
    "import matplotlib.pyplot as plt\n",
    "import pandas as pd\n",
    "import numpy as np\n",
    "import requests\n",
    "from configweather import api_key"
   ]
  },
  {
   "cell_type": "code",
   "execution_count": 33,
   "metadata": {
    "scrolled": false
   },
   "outputs": [
    {
     "data": {
      "text/plain": [
       "[{'postal_code': '10021',\n",
       "  'country': 'US',\n",
       "  'timestamp': '2014-12-30T00:00:00-05:00',\n",
       "  'cldCvrMin': 0,\n",
       "  'cldCvrAvg': 45,\n",
       "  'cldCvrMax': 100,\n",
       "  'dewPtMin': 11,\n",
       "  'dewPtAvg': 15.3,\n",
       "  'dewPtMax': 20.3,\n",
       "  'feelsLikeMin': 22.7,\n",
       "  'feelsLikeAvg': 25.7,\n",
       "  'feelsLikeMax': 28.5,\n",
       "  'heatIndexMin': 26.8,\n",
       "  'heatIndexAvg': 29.9,\n",
       "  'heatIndexMax': 32.3,\n",
       "  'mslPresMin': 1025.8,\n",
       "  'mslPresAvg': 1028.3,\n",
       "  'mslPresMax': 1030.1,\n",
       "  'precip': 0,\n",
       "  'presTendMin': -2.5,\n",
       "  'presTendAvg': 0.2,\n",
       "  'presTendMax': 1.7,\n",
       "  'radSolarMin': 0,\n",
       "  'radSolarAvg': 76.8,\n",
       "  'radSolarMax': 331,\n",
       "  'radSolarTot': 1844,\n",
       "  'relHumMin': 46,\n",
       "  'relHumAvg': 54.2,\n",
       "  'relHumMax': 65,\n",
       "  'sfcPresMin': 1024.6,\n",
       "  'sfcPresAvg': 1027.3,\n",
       "  'sfcPresMax': 1029.5,\n",
       "  'snowDepth': 0,\n",
       "  'snowfall': 0,\n",
       "  'spcHumMin': 1.5,\n",
       "  'spcHumAvg': 1.9,\n",
       "  'spcHumMax': 2.3,\n",
       "  'tempMin': 26.8,\n",
       "  'tempAvg': 29.9,\n",
       "  'tempMax': 32.3,\n",
       "  'windChillMin': 22.7,\n",
       "  'windChillAvg': 25.7,\n",
       "  'windChillMax': 28.5,\n",
       "  'windDirAvg': 348,\n",
       "  'windDir80mAvg': 346,\n",
       "  'windDir100mAvg': 346,\n",
       "  'windSpdMin': 0.4,\n",
       "  'windSpdAvg': 4.1,\n",
       "  'windSpdMax': 6.4,\n",
       "  'windSpd80mMin': 0.3,\n",
       "  'windSpd80mAvg': 8.1,\n",
       "  'windSpd80mMax': 14,\n",
       "  'windSpd100mMin': 0.3,\n",
       "  'windSpd100mAvg': 8.4,\n",
       "  'windSpd100mMax': 14.2,\n",
       "  'wetBulbMin': 23.3,\n",
       "  'wetBulbAvg': 26.1,\n",
       "  'wetBulbMax': 28.7}]"
      ]
     },
     "execution_count": 33,
     "metadata": {},
     "output_type": "execute_result"
    }
   ],
   "source": [
    "#10021=new york new york, 10004= manhattan, 11212=brooklyn\n",
    "\n",
    "postal_code = \"10021\"\n",
    "country = \"US\"\n",
    "period = \"day\"\n",
    "timestamp_between = \"timestamp_eq=2014-12-30T00:00\"\n",
    "\n",
    "url = f\"https://api.weathersource.com/v1/{api_key}/postal_codes/{postal_code},{country}/history.json?period={period}&{timestamp_between}\"\n",
    "\n",
    "weather_data = requests.get(url).json()\n",
    "weather_data\n"
   ]
  },
  {
   "cell_type": "code",
   "execution_count": null,
   "metadata": {},
   "outputs": [],
   "source": []
  }
 ],
 "metadata": {
  "kernelspec": {
   "display_name": "Python 3",
   "language": "python",
   "name": "python3"
  },
  "language_info": {
   "codemirror_mode": {
    "name": "ipython",
    "version": 3
   },
   "file_extension": ".py",
   "mimetype": "text/x-python",
   "name": "python",
   "nbconvert_exporter": "python",
   "pygments_lexer": "ipython3",
   "version": "3.6.10"
  }
 },
 "nbformat": 4,
 "nbformat_minor": 4
}
